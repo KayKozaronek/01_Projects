{
  "nbformat": 4,
  "nbformat_minor": 0,
  "metadata": {
    "colab": {
      "name": "Exoplanet Detection_From Scratch.ipynb",
      "provenance": [],
      "collapsed_sections": []
    },
    "kernelspec": {
      "name": "python3",
      "display_name": "Python 3"
    }
  },
  "cells": [
    {
      "cell_type": "markdown",
      "metadata": {
        "id": "we5tHnyMOsmf",
        "colab_type": "text"
      },
      "source": [
        "#1. Celestial Mechanics "
      ]
    },
    {
      "cell_type": "markdown",
      "metadata": {
        "id": "PupdYWXoPlx7",
        "colab_type": "text"
      },
      "source": [
        "## 1.1 Kepler's Laws"
      ]
    },
    {
      "cell_type": "markdown",
      "metadata": {
        "id": "MxjaEh5ZOj4q",
        "colab_type": "text"
      },
      "source": [
        "Explainatory Video:\n",
        "\n",
        "https://www.youtube.com/watch?v=afPtG_hn82s&ab_channel=CoolWorldsClassroom"
      ]
    },
    {
      "cell_type": "markdown",
      "metadata": {
        "id": "YH7JBGFOXe0G",
        "colab_type": "text"
      },
      "source": [
        "Early models of planetary motion:\n",
        "- Geocentric Ptolemaic (Earth is at the center )\n",
        "- Heliocentric Copernican (Sun is at the center)\n",
        "- Geoheliocentric Tychonic \n",
        "- Heliocentric Keplerian (Sun is at one of the two foci of an elliptical orbit)"
      ]
    },
    {
      "cell_type": "markdown",
      "metadata": {
        "id": "miUOYUjpXcgv",
        "colab_type": "text"
      },
      "source": [
        "Kepler's laws:\n",
        "1. Planets orbit the Sun in an ellipse with the Sun at one focus\n",
        "2. Planets sweep out equal areas in equal intervals \n",
        "3. The orbital period of a planet squared is proportional to its semi-major axis cubed \n",
        "  - $ P^2$ is proportional to $a^3 $"
      ]
    },
    {
      "cell_type": "markdown",
      "metadata": {
        "id": "snvUR8hePLze",
        "colab_type": "text"
      },
      "source": [
        "##1.2 Newtonian Gravity \n",
        "\n",
        "Usig Newton's laws we will formally derive Kepler's laws from first principles\n",
        "\n",
        "- **Prerequisite = Vector calculus**"
      ]
    },
    {
      "cell_type": "markdown",
      "metadata": {
        "id": "H6kGv8UCSYdQ",
        "colab_type": "text"
      },
      "source": [
        "Explainatory Video:\n",
        "\n",
        "- https://www.youtube.com/watch?v=olEiY4oX_Ek&ab_channel=CoolWorldsClassroom\n",
        "\n",
        "Keplerian Orbits and Dynamics of Exoplanets:\n",
        "\n",
        "- https://arxiv.org/pdf/1009.1738.pdf\n",
        "\n",
        "Polar coordinate system:\n",
        "\n",
        "- https://en.wikipedia.org/wiki/Polar_coordinate_system#Vector_calculus"
      ]
    },
    {
      "cell_type": "markdown",
      "metadata": {
        "id": "30ON-0CsPyC_",
        "colab_type": "text"
      },
      "source": [
        "Using Newton's laws:\n",
        "- Universal law of gravitation \n",
        "- Newton's second law \n",
        "\n",
        "\n",
        "We're going to derive \n",
        "- Kepler's first law\n",
        "- Kepler's second law\n",
        "- Kepler's third law"
      ]
    },
    {
      "cell_type": "markdown",
      "metadata": {
        "id": "u0XOi4l_P_m_",
        "colab_type": "text"
      },
      "source": [
        "Notation: \n",
        "- **x** $= vector$\n",
        "- $x = scalar$\n",
        "- $\\hat{x} = unit vector$\n",
        "- $|x| = magnitude$\n"
      ]
    },
    {
      "cell_type": "markdown",
      "metadata": {
        "id": "8te1y1dIZArk",
        "colab_type": "text"
      },
      "source": [
        "##Step 1: Newton's Universal Law of Gravitation\n",
        "- $ F_2{_1} = - G \\frac{m_1*m_2}{|r_1{_2}|^2}$\n",
        "    - $F_2{_1} =$ force applied on 2 by 1 \n",
        "    - $G =$ gravitational constant \n",
        "    - $m_i =$ mass of object $i$\n",
        "    - $r_1{_2} =$ position vector from 1 to 2  "
      ]
    },
    {
      "cell_type": "markdown",
      "metadata": {
        "id": "Ru6Oe2u0bgL1",
        "colab_type": "text"
      },
      "source": [
        "## Step 2: Newton's Second Law of Motion \n",
        "  - $F = m * \\ddot{r}$ (Each dot represents a time drivative)\n",
        "    - $v = \\dot{r}$ (velocity)\n",
        "    - $a = \\dot{v} = \\ddot{r}$ (acceleration)"
      ]
    },
    {
      "cell_type": "markdown",
      "metadata": {
        "id": "9byArzhobn90",
        "colab_type": "text"
      },
      "source": [
        "## Step 3: Equate the two force equations in vector form \n",
        "\n",
        "$F_2{_1} = m_2 * \\ddot{r}_2= - G \\frac{m_1*m_2}{|r|^3} *r$\n",
        "\n",
        "\n",
        "$F_1{_2} = m_1 * \\ddot{r}_1= - G \\frac{m_1*m_2}{|r|^3} * r$\n",
        "\n",
        "- $F_2{_1}$ is a force applied in the opposite direction as r (as indicated by the negative sign in front of G)\n",
        "- $F_1{_2}$ is a force applied in the same direction as r\n",
        "\n"
      ]
    },
    {
      "cell_type": "markdown",
      "metadata": {
        "id": "T7mIV162cd29",
        "colab_type": "text"
      },
      "source": [
        "# Step 4: How does r (the planet-star vector) change over time ?\n",
        "$ \\ddot{r} = \\ddot{r_2} - \\ddot{r_1}$\n",
        "\n",
        "Using the equations from Step 3 we can substitute for $\\ddot{r_2}$ and $\\ddot{r_1}$ to arrive at\n",
        "\n",
        "$ \\ddot{r} + G(m_1 + m_2)\\frac{r}{r^3} = 0$\n"
      ]
    },
    {
      "cell_type": "markdown",
      "metadata": {
        "id": "NyH52kBzfGGS",
        "colab_type": "text"
      },
      "source": [
        "## Step 5: Take a vector product with r \n",
        "\n",
        "- $r$ x $\\ddot{r} = 0$ (because the vector product of r x r = 0)\n",
        "- The derivative of a vector product follows the chain rule: \n",
        "  - $\\frac{d}{dt}(a $ x $ b) = \\frac{da}{dt}$ x$b + a $ x $\\frac{db}{dt}$\n",
        "\n",
        "So we can write: \n",
        "$\\frac{d}{dt}(r $ x $ \\frac{dr}{dt}) = \\frac{dr}{dt}$ x $\\frac{dr}{dt} + r $ x $\\frac{dr^2}{dt^2}$\n",
        "  - The first term on the right side = 0 \n",
        "  - The second term on the right side = $r$ x $\\ddot{r}$ which in turn equals 0\n",
        "\n",
        "Since the derivative $\\frac{d}{dt}(r$ x $\\ddot{r})$ is 0, the derivative $\\frac{d}{dt}(r$ x $\\dot{r})$ must also equal 0 \n",
        "\n",
        "We can integrate this where h is a constant vector \n",
        "$r$ x $\\dot{r} = h$"
      ]
    },
    {
      "cell_type": "markdown",
      "metadata": {
        "id": "cLIUCP-ejcLw",
        "colab_type": "text"
      },
      "source": [
        "## Step 6: Stop and ponder about the implications of $r$ x $\\dot{r} = h$\n",
        "\n",
        "- Cross-products yield a perpendicular vecor \n",
        "$\\therefore h$ must lie perpendicular to both r and $\\frac{dr}{dt}$\n",
        "- $h =$ angular momentum vector \n",
        "\n",
        "Note:\n",
        "- $\\therefore$ means therefore"
      ]
    },
    {
      "cell_type": "markdown",
      "metadata": {
        "id": "7UtBtMZkknmS",
        "colab_type": "text"
      },
      "source": [
        "## Step 7: Let's write r in polar coordinates\n",
        "- $r = r *\\hat{r}$\n",
        "- $\\dot{r}= \\dot{r} \\hat{r} + r \\dot{\\theta}\\hat{\\theta}$\n",
        "\n",
        "\n",
        "Note: \n",
        "- This is a standard result of vector calculus. \n",
        "- A short derivation can be found here\n",
        "- https://en.wikipedia.org/wiki/Polar_coordinate_system#Vector_calculus\n"
      ]
    },
    {
      "cell_type": "markdown",
      "metadata": {
        "id": "VF-g_9eRkrpa",
        "colab_type": "text"
      },
      "source": [
        "## Step 8: Put the result for $\\dot{r}$ into $r$ x $\\dot{r} = h$\n",
        "\n",
        "- $ r$ x $(\\dot{r}\\hat{r} + r \\dot{\\theta}\\hat{\\theta}) = h$\n",
        "\n",
        "We can now simply drop any vector self product terms: \n",
        "\n",
        "- $ r$ x $( r \\dot{\\theta}\\hat{\\theta}) = h$\n",
        "\n",
        "- $ r\\dot{\\theta}r$ x $\\hat{\\theta} = h$\n",
        "\n",
        "\n",
        "h is normal to the orbital plane so \n",
        "\n",
        "- $ r^2\\dot{\\theta}\\hat{r}$ x $\\hat{\\theta} = h\\hat{h}$\n",
        "\n",
        "- $h = r^2 \\dot{\\theta}$"
      ]
    },
    {
      "cell_type": "code",
      "metadata": {
        "id": "ld3YbYH-oHsp",
        "colab_type": "code",
        "colab": {}
      },
      "source": [
        "## Step 9:"
      ],
      "execution_count": null,
      "outputs": []
    },
    {
      "cell_type": "markdown",
      "metadata": {
        "id": "txFUCq-OoH_I",
        "colab_type": "text"
      },
      "source": [
        "## Takeaways:\n",
        "- Newton's Universal Law of Gravitation: $ F_2{_1} = - G \\frac{m_1*m_2}{|r_1{_2}|^2}$\n",
        "- Newton's Second Law of Motion: $F = m * \\ddot{r}$\n",
        "- From Newton's second law of motion we can arrive at the angualr momentum integral:\n",
        "  - $ r$ x $\\dot{r} =h$\n",
        "\n",
        "- Combining the knowledge about the angular momentum integral with the following:\n",
        "  - $ r = r\\hat{r}$\n",
        "  - $ \\dot{r} = \\dot{r}\\hat{r} + r\\dot{\\theta}\\hat{\\theta} $\n",
        "\n",
        "- We arrive at Kepler's Second Law \n",
        "  - $\\dot{A} = \\frac{1}{2}r^2\\dot{\\theta} = \\frac{1}{2}h = constant$"
      ]
    },
    {
      "cell_type": "markdown",
      "metadata": {
        "id": "JWmcA0a5RGlp",
        "colab_type": "text"
      },
      "source": [
        "## 1.3 Deriving Keplers second and third law"
      ]
    },
    {
      "cell_type": "markdown",
      "metadata": {
        "id": "s-w7WhgtTciL",
        "colab_type": "text"
      },
      "source": [
        "Explainatory Video:\n",
        "\n",
        "- https://www.youtube.com/watch?v=arH_VofUkHU&ab_channel=CoolWorldsClassroom\n",
        "\n",
        "Exercise:\n",
        "\n",
        "- https://drive.google.com/file/d/1VBJ1xmmvUatAQsrC3FEdgu47ZSwFQQmu/view"
      ]
    },
    {
      "cell_type": "markdown",
      "metadata": {
        "id": "zpBNFWVXBE5U",
        "colab_type": "text"
      },
      "source": [
        "We already know the following:\n",
        "- (1) $r = r\\hat{r}$\n",
        "- (2) $\\ddot{r} + G(m_1 + m_2) \\frac{r}{r^3}$\n",
        "\n",
        "We can input (1) into (2) to obtain the following\n",
        "- $\\ddot{r} = -G(m_1 + m_2) \\frac{\\hat{r}}{r^2}$\n"
      ]
    },
    {
      "cell_type": "markdown",
      "metadata": {
        "id": "wT3IxKvqCbGw",
        "colab_type": "text"
      },
      "source": [
        "But let's also remove the $\\ddot{r}$ term by substituting it with \n",
        "- $\\ddot{r} = (\\ddot{r} - r\\dot{\\theta^2})\\hat{r} + [\\frac{1}{r} \\frac{d}{dt} (r^2 \\dot{\\theta})] \\hat{\\theta} $\n",
        "\n",
        "Adding this we now obtain the following result:\n",
        "\n",
        "$-G(m_1 + m_2) \\frac{\\hat{r}}{r^2} = (\\ddot{r} - r\\dot{\\theta^2})\\hat{r} + [\\frac{1}{r} \\frac{d}{dt} (r^2 \\dot{\\theta})] \\hat{\\theta} $"
      ]
    },
    {
      "cell_type": "markdown",
      "metadata": {
        "id": "lXHblaqhDbzf",
        "colab_type": "text"
      },
      "source": [
        "Now balance to coefficients of unit vectors $\\hat{r}$ to obtain \n",
        "- $- \\frac{G(m_1 + m_2)}{r^2} = \\ddot{r} - r\\dot{\\theta^2}$"
      ]
    },
    {
      "cell_type": "markdown",
      "metadata": {
        "id": "7HHNckrmDwQj",
        "colab_type": "text"
      },
      "source": [
        "This looks like something we can solve. \n",
        "\n",
        "To do so we'll subsitute $u = \\frac{1}{r}$  \n",
        "\n"
      ]
    },
    {
      "cell_type": "markdown",
      "metadata": {
        "id": "ugZab-4xVtcp",
        "colab_type": "text"
      },
      "source": [
        "## 1.4 Orbits in 3D\n",
        "\n",
        "Explainatory Video:\n",
        "- https://www.youtube.com/watch?v=kKGQPXtvArI&t=18s&ab_channel=CoolWorldsClassroom\n",
        "\n"
      ]
    },
    {
      "cell_type": "markdown",
      "metadata": {
        "id": "xA1BkhZNWTfg",
        "colab_type": "text"
      },
      "source": [
        "Euler's rotation theorem \n",
        "\n",
        "- Proper Euler angles\n",
        "- Tait-Bryan angles"
      ]
    },
    {
      "cell_type": "markdown",
      "metadata": {
        "id": "K2KqAFqMVZud",
        "colab_type": "text"
      },
      "source": [
        "Takeaways: \n",
        "\n",
        "Questions:\n",
        "\n",
        "\n",
        "Answers:\n",
        "- https://drive.google.com/file/d/12SMQ1CDIL88HLbUsKwswvgQ70FuwqbsA/view"
      ]
    },
    {
      "cell_type": "markdown",
      "metadata": {
        "id": "XCV-vWBcYzLw",
        "colab_type": "text"
      },
      "source": [
        "## 1.5 Kepler's Equation"
      ]
    },
    {
      "cell_type": "markdown",
      "metadata": {
        "id": "ihisOqyyY67-",
        "colab_type": "text"
      },
      "source": [
        "Explainatory video:\n",
        "- https://www.youtube.com/watch?v=zEla5NXLQBI&ab_channel=CoolWorldsClassroom\n",
        "\n",
        "Exercise: \n",
        "- https://drive.google.com/file/d/1Wb3cCbPcPeqRzdgvAFm1hv00nZ4XFC8f/view\n"
      ]
    },
    {
      "cell_type": "markdown",
      "metadata": {
        "id": "GkTUj_hhZWys",
        "colab_type": "text"
      },
      "source": [
        "#2. The Radial Velocity Method"
      ]
    },
    {
      "cell_type": "markdown",
      "metadata": {
        "id": "HUAj_hQdbim-",
        "colab_type": "text"
      },
      "source": [
        "Explainatory Video:\n",
        "- https://www.youtube.com/watch?v=z9TKbQu31ts&ab_channel=CoolWorldsClassroom"
      ]
    },
    {
      "cell_type": "code",
      "metadata": {
        "id": "TZj_U9Qbbokh",
        "colab_type": "code",
        "colab": {}
      },
      "source": [
        ""
      ],
      "execution_count": null,
      "outputs": []
    }
  ]
}