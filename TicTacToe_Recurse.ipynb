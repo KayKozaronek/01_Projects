{
  "nbformat": 4,
  "nbformat_minor": 0,
  "metadata": {
    "colab": {
      "name": "TicTacToe_Recurse.ipynb",
      "provenance": [],
      "authorship_tag": "ABX9TyNbQ68Yy6KiHXx1rf+HuLiS",
      "include_colab_link": true
    },
    "kernelspec": {
      "name": "python3",
      "display_name": "Python 3"
    }
  },
  "cells": [
    {
      "cell_type": "markdown",
      "metadata": {
        "id": "view-in-github",
        "colab_type": "text"
      },
      "source": [
        "<a href=\"https://colab.research.google.com/github/KayKozaronek/01_Projects/blob/master/TicTacToe_Recurse.ipynb\" target=\"_parent\"><img src=\"https://colab.research.google.com/assets/colab-badge.svg\" alt=\"Open In Colab\"/></a>"
      ]
    },
    {
      "cell_type": "markdown",
      "metadata": {
        "id": "dOcHzSy38TPM",
        "colab_type": "text"
      },
      "source": [
        "#Tic Tac Toe\n",
        "- This is an implementation of the game classic Tic Tac Toe. \n",
        "- There will be explanations as to what is done and to what purpose. \n",
        "- This document was originally created as an application for the `RecurseCenter` in NYC"
      ]
    },
    {
      "cell_type": "markdown",
      "metadata": {
        "id": "13_9WJvT7sW1",
        "colab_type": "text"
      },
      "source": [
        "# 1. Global Variables\n",
        "\n",
        "Let's first settle on some global variables that we are going to use throughout the entire code.\n",
        "\n",
        "We need a:\n",
        "- Playing board\n",
        "- Current player \n",
        "- Winner \n",
        "- Current Game status (Ended or ongoing?)"
      ]
    },
    {
      "cell_type": "code",
      "metadata": {
        "id": "xZblvrdLrnTQ",
        "colab_type": "code",
        "outputId": "f1b8aa10-87b7-4a73-c3b1-4d6a23c14cfe",
        "colab": {
          "base_uri": "https://localhost:8080/",
          "height": 67
        }
      },
      "source": [
        "# We use a Python List with 9 values. An empty board position will be displayed as a \"-\"\n",
        "empty_board =[\"-\",\"-\",\"-\",\n",
        "              \"-\",\"-\",\"-\",\n",
        "              \"-\",\"-\",\"-\"]\n",
        "\n",
        "board = [ \"-\",\"-\",\"-\",\n",
        "          \"-\",\"-\",\"-\",\n",
        "          \"-\",\"-\",\"-\"]\n",
        "# If game is still going\n",
        "game_still_going = True \n",
        "\n",
        "# Who won? Or tie?\n",
        "winner = None \n",
        "\n",
        "# Who's turn is it?\n",
        "current_player = \"X\"\n",
        "\n",
        "# Here we define the function that we will use to display our board\n",
        "def display_board():\n",
        "    print(board[0] + \" | \" + board[1] + \" | \" + board[2])\n",
        "    print(board[3] + \" | \" + board[4] + \" | \" + board[5])\n",
        "    print(board[6] + \" | \" + board[7] + \" | \" + board[8])\n",
        "\n",
        "# Let's see how our empy board looks like \n",
        "display_board()"
      ],
      "execution_count": 32,
      "outputs": [
        {
          "output_type": "stream",
          "text": [
            "- | - | -\n",
            "- | - | -\n",
            "- | - | -\n"
          ],
          "name": "stdout"
        }
      ]
    },
    {
      "cell_type": "markdown",
      "metadata": {
        "id": "sT4yxUw19gPC",
        "colab_type": "text"
      },
      "source": [
        "# 2.Define the Playing function\n",
        "\n",
        "- In this part we want to start implementing the logic and the rules behind TicTacToe. \n",
        "- The `play_game()` function will allow us to play the game without any unpleasant interruptions and Errors. "
      ]
    },
    {
      "cell_type": "code",
      "metadata": {
        "id": "aZoHjGVAs3mv",
        "colab_type": "code",
        "colab": {}
      },
      "source": [
        "# Play Game a game of Tic Tac Toe\n",
        "def play_game():\n",
        "\n",
        "  # Assign global variables\n",
        "  global game_still_going\n",
        "  global board \n",
        "  # Make an empty board at the beginning of each game\n",
        "  board = empty_board \n",
        "\n",
        "  # Display initial board\n",
        "  display_board()\n",
        "\n",
        "  # While the game is still going (Which we set to true by default in Section 1)\n",
        "  while game_still_going:\n",
        "    \n",
        "    # Handle a single turn of an arbitrary player (Will be defined in 2.1)\n",
        "    handle_turn(current_player)\n",
        "\n",
        "    # Check if the game has ended (Will be defined in 2.2)\n",
        "    check_if_game_over()\n",
        "  \t\n",
        "    # Change to the other player (Will be defined in 2.3)\n",
        "    flip_player()\n",
        "\n",
        "  # When the game is over we check for a winner.\n",
        "  if winner == \"X\" or winner ==\"O\":\n",
        "    print(f\" {winner} won.\")\n",
        "    \n",
        "  elif winner == None:\n",
        "    print(\"It's a tie.\")\n",
        "\n",
        "  # Clear Board if game is over and ask for another game \n",
        "  while game_still_going == False:\n",
        "    inp = input(f\"\\n Do you want to play again? (Y/N)\")\n",
        "    if inp not in [\"Y\", \"N\"]:\n",
        "      print(\" \\n Incorrect Input, try typing 'Y' for Yes and 'N' for No.\")\n",
        "    elif inp in [\"Y\"]:\n",
        "      print(\"\\n Ok, let's go again! \\n \")\n",
        "      game_still_going = True\n",
        "      board = empty_board\n",
        "      play_game()\n",
        "    elif inp in [\"N\"]:\n",
        "      print(\"\\n Thank's for playing. Have a great day!\")\n",
        "      break\n",
        "    break"
      ],
      "execution_count": 0,
      "outputs": []
    },
    {
      "cell_type": "markdown",
      "metadata": {
        "id": "9HP4FP3IAt5j",
        "colab_type": "text"
      },
      "source": [
        "## 2.1 Implementing `handle_turn`\n",
        "In this part we will define the function that takes care of a players turn.\n",
        "We will take care of the following:\n",
        "- Print who's Players turn it is \n",
        "- Give the Player the option to input a position\n",
        "- Check if the Input is Valid \n",
        "  - Check if it is a number in the range of 1-9\n",
        "  - Check if the position on the board is already occupied or free \n",
        "\n"
      ]
    },
    {
      "cell_type": "code",
      "metadata": {
        "id": "3BGDd_EuQtTk",
        "colab_type": "code",
        "colab": {
          "base_uri": "https://localhost:8080/",
          "height": 34
        },
        "outputId": "b13e688a-3a27-4c23-f6ed-48c5c0d6ebbe"
      },
      "source": [
        "list(range(10))"
      ],
      "execution_count": 34,
      "outputs": [
        {
          "output_type": "execute_result",
          "data": {
            "text/plain": [
              "[0, 1, 2, 3, 4, 5, 6, 7, 8, 9]"
            ]
          },
          "metadata": {
            "tags": []
          },
          "execution_count": 34
        }
      ]
    },
    {
      "cell_type": "code",
      "metadata": {
        "id": "YT3IN5oCyCQX",
        "colab_type": "code",
        "colab": {}
      },
      "source": [
        "def handle_turn(player):\n",
        "\n",
        "  print(f\" It's {player} 's turn.\")\n",
        "  position = int(input(\"Choose a position from 1-9\"))\n",
        " \n",
        "  # We assume that the input is invalid, before we actually check it \n",
        "  valid = False\n",
        "\n",
        "  # Here we check it\n",
        "  while not valid:\n",
        "\n",
        "    # This loop asks the player to go again if the input is not a number between 1-9 \n",
        "    while position not in(range(10)):\n",
        "      position = input(\"Invalid input. Choose a position from 1-9\")\n",
        "\n",
        "    # When we get a correct input, we assign it to the argument position\n",
        "    position = position -1\n",
        "\n",
        "    # Here we check for if the position is still empty. If not we ask the player to go again.\n",
        "    if board[position] != \"-\":\n",
        "      print(\"\\n You can't go there. Go again!\")\n",
        "    else:\n",
        "      valid = True\n",
        "\n",
        "  # Assign \"X\" or \"O\" to the board and display it\n",
        "  board[position] = player\n",
        "  display_board()"
      ],
      "execution_count": 0,
      "outputs": []
    },
    {
      "cell_type": "markdown",
      "metadata": {
        "id": "UdDMQqCGEZ6w",
        "colab_type": "text"
      },
      "source": [
        "## 2.2 Implementing `check_if_game_over`\n",
        "In this part we will check whether the game is already finished.\n",
        "This can happen in the following cases:\n",
        "- We have a winner / The board is not full\n",
        "- We have a tie / We have no winner & the board is full \n"
      ]
    },
    {
      "cell_type": "code",
      "metadata": {
        "id": "4iCPYeH5Gp8Z",
        "colab_type": "code",
        "colab": {}
      },
      "source": [
        "def check_if_game_over():\n",
        "  check_for_winner()\n",
        "  check_if_tie()"
      ],
      "execution_count": 0,
      "outputs": []
    },
    {
      "cell_type": "markdown",
      "metadata": {
        "id": "8saA30G_GsnT",
        "colab_type": "text"
      },
      "source": [
        "### 2.2.1 Implementing `check_for_winner()`\n",
        "We need to define the subfunction of `check_if_game_over():`\n",
        "Here we will have to implement 3 cases for a winner:\n",
        "1. Winning through 3 of a kind in a row\n",
        "2. Winning through 3 of a kind in a column\n",
        "3. Winning through 3 of a kind in a diagonal"
      ]
    },
    {
      "cell_type": "code",
      "metadata": {
        "id": "2grZVSHkHuA5",
        "colab_type": "code",
        "colab": {}
      },
      "source": [
        "def check_for_winner():\n",
        "\n",
        "  # Set up global variables\n",
        "  global winner\n",
        "\n",
        "  # Check rows\n",
        "  row_winner = check_rows()\n",
        "   \n",
        "  column_winner = check_columns() # Check columns\n",
        "  \n",
        "  diagonal_winner = check_diagonals() # Check diagonals\n",
        "\n",
        "  if row_winner:\n",
        "    winner = row_winner # theres a win\n",
        "  elif column_winner: \n",
        "    winner = column_winner # theres a win\n",
        "  elif diagonal_winner:\n",
        "    winner = diagonal_winner\n",
        "  else: \n",
        "    winner = None  # There was no win\n",
        "  return"
      ],
      "execution_count": 0,
      "outputs": []
    },
    {
      "cell_type": "markdown",
      "metadata": {
        "id": "WSwZEShRHz-4",
        "colab_type": "text"
      },
      "source": [
        "#### 2.2.1.1 Implementing `check_rows()`"
      ]
    },
    {
      "cell_type": "code",
      "metadata": {
        "id": "S6Ze6Z8qH-93",
        "colab_type": "code",
        "colab": {}
      },
      "source": [
        "def check_rows():\n",
        "  # Set up global variables \n",
        "  global game_still_going # Is true, as defined in Part 1.\n",
        "\n",
        "  # Check if any of the rows have all the same value (Only \"X\" or \"O\", not \"-\")\n",
        "  row_1 = board[0] == board[1] == board[2] != \"-\"\n",
        "  row_2 = board[3] == board[4] == board[5] != \"-\"\n",
        "  row_3 = board[6] == board[7] == board[8] != \"-\"\n",
        "  \n",
        "  # If any row has a match, flag that there is a win and the game has ended\n",
        "  if row_1 or row_2 or row_3:\n",
        "    game_still_going = False\n",
        "  \n",
        "  # Return the winner \n",
        "  if row_1:\n",
        "    return board[0]\n",
        "  elif row_2:\n",
        "    return board[3]\n",
        "  elif row_3:\n",
        "    return board[6]\n",
        "  \n",
        "  return"
      ],
      "execution_count": 0,
      "outputs": []
    },
    {
      "cell_type": "markdown",
      "metadata": {
        "id": "ktPvsADiIiZR",
        "colab_type": "text"
      },
      "source": [
        "#### 2.2.1.2 Implementing `check_columns()`"
      ]
    },
    {
      "cell_type": "code",
      "metadata": {
        "id": "9x1S2f11IDIh",
        "colab_type": "code",
        "colab": {}
      },
      "source": [
        "def check_columns():\n",
        "  # Set up global variables \n",
        "  global game_still_going\n",
        "\n",
        "  # Check if any of the rows have all the same value \n",
        "  column_1 = board[0] == board[3] == board[6] != \"-\"\n",
        "  column_2 = board[1] == board[4] == board[7] != \"-\"\n",
        "  column_3 = board[2] == board[5] == board[8] != \"-\"\n",
        "  \n",
        "  # If any row has a match, flag that there is a win\n",
        "  if column_1 or column_2 or column_3:\n",
        "    game_still_going = False\n",
        "  # Return the winner \n",
        "  if column_1:\n",
        "    return board[0]\n",
        "  elif column_2:\n",
        "    return board[1]\n",
        "  elif column_3:\n",
        "    return board[2]\n",
        "  return"
      ],
      "execution_count": 0,
      "outputs": []
    },
    {
      "cell_type": "markdown",
      "metadata": {
        "id": "I4z2bs8MIq63",
        "colab_type": "text"
      },
      "source": [
        "#### 2.2.2.3 Implementing `check_diagonals()`"
      ]
    },
    {
      "cell_type": "code",
      "metadata": {
        "id": "hD1fK3_jIHaO",
        "colab_type": "code",
        "colab": {}
      },
      "source": [
        "def check_diagonals():\n",
        "  # Set up global variables \n",
        "  global game_still_going\n",
        "\n",
        "  # Check if any of the diagonals have all the same value \n",
        "  diagonal_1 = board[0] == board[4] == board[8] != \"-\"\n",
        "  diagonal_2 = board[2] == board[4] == board[6] != \"-\"\n",
        "  \n",
        "  # If any row has a match, flag that there is a win\n",
        "  if diagonal_1 or diagonal_2:\n",
        "    game_still_going = False\n",
        "  # Return the winner \n",
        "  if diagonal_1:\n",
        "    return board[0]\n",
        "  elif diagonal_2:\n",
        "    return board[2]\n",
        "  return"
      ],
      "execution_count": 0,
      "outputs": []
    },
    {
      "cell_type": "markdown",
      "metadata": {
        "id": "dwXK-FI_IO-9",
        "colab_type": "text"
      },
      "source": [
        "### 2.2.2 Implementing `check_if_tie()`\n",
        "\n",
        "After checking all the possibilities for a winner, it might still be the case, that we don't have one.\n",
        "In this case, we need to check if there's a tie. "
      ]
    },
    {
      "cell_type": "code",
      "metadata": {
        "id": "VN6opHqL_kXm",
        "colab_type": "code",
        "colab": {}
      },
      "source": [
        " def check_if_tie():\n",
        "  global game_still_going\n",
        "\n",
        "  # If there's no empty space on our board, we can infer that the game is over\n",
        "  if \"-\" not in board:\n",
        "    game_still_going = False\n",
        "    return"
      ],
      "execution_count": 0,
      "outputs": []
    },
    {
      "cell_type": "markdown",
      "metadata": {
        "id": "fa06q__WIXwF",
        "colab_type": "text"
      },
      "source": [
        "## 2.3 Implement `flip_player()`\n",
        "\n",
        "Now we want to implement the funcionality that will automatically change the player, after a move has been made."
      ]
    },
    {
      "cell_type": "code",
      "metadata": {
        "id": "umBW7pSy_yQs",
        "colab_type": "code",
        "colab": {}
      },
      "source": [
        "def flip_player():\n",
        "  # Global variable we need \n",
        "  global current_player\n",
        "\n",
        "  # If the current player is \"X\", then change to \"O\"\n",
        "  if current_player == \"X\":\n",
        "    current_player = \"O\"\n",
        "  \n",
        "  # If the current player is \"O\", then change to \"X\"\n",
        "  elif current_player == \"O\":\n",
        "    current_player =\"X\"  \n",
        "  \n",
        "  return "
      ],
      "execution_count": 0,
      "outputs": []
    },
    {
      "cell_type": "markdown",
      "metadata": {
        "id": "IyEtXjCE_110",
        "colab_type": "text"
      },
      "source": [
        "# 3. Playing the Game "
      ]
    },
    {
      "cell_type": "code",
      "metadata": {
        "id": "ZsyWHwHCI6Tf",
        "colab_type": "code",
        "colab": {
          "base_uri": "https://localhost:8080/",
          "height": 673
        },
        "outputId": "3894ee13-c573-4ee2-c993-20519e4db275"
      },
      "source": [
        "play_game()"
      ],
      "execution_count": 52,
      "outputs": [
        {
          "output_type": "stream",
          "text": [
            "X | X | O\n",
            "O | O | X\n",
            "X | O | X\n",
            " It's O 's turn.\n",
            "Choose a position from 1-91\n",
            "\n",
            " You can't go there. Go again!\n",
            "\n",
            " You can't go there. Go again!\n"
          ],
          "name": "stdout"
        },
        {
          "output_type": "error",
          "ename": "KeyboardInterrupt",
          "evalue": "ignored",
          "traceback": [
            "\u001b[0;31m---------------------------------------------------------------------------\u001b[0m",
            "\u001b[0;31mKeyboardInterrupt\u001b[0m                         Traceback (most recent call last)",
            "\u001b[0;32m/usr/local/lib/python3.6/dist-packages/ipykernel/kernelbase.py\u001b[0m in \u001b[0;36m_input_request\u001b[0;34m(self, prompt, ident, parent, password)\u001b[0m\n\u001b[1;32m    728\u001b[0m             \u001b[0;32mtry\u001b[0m\u001b[0;34m:\u001b[0m\u001b[0;34m\u001b[0m\u001b[0;34m\u001b[0m\u001b[0m\n\u001b[0;32m--> 729\u001b[0;31m                 \u001b[0mident\u001b[0m\u001b[0;34m,\u001b[0m \u001b[0mreply\u001b[0m \u001b[0;34m=\u001b[0m \u001b[0mself\u001b[0m\u001b[0;34m.\u001b[0m\u001b[0msession\u001b[0m\u001b[0;34m.\u001b[0m\u001b[0mrecv\u001b[0m\u001b[0;34m(\u001b[0m\u001b[0mself\u001b[0m\u001b[0;34m.\u001b[0m\u001b[0mstdin_socket\u001b[0m\u001b[0;34m,\u001b[0m \u001b[0;36m0\u001b[0m\u001b[0;34m)\u001b[0m\u001b[0;34m\u001b[0m\u001b[0;34m\u001b[0m\u001b[0m\n\u001b[0m\u001b[1;32m    730\u001b[0m             \u001b[0;32mexcept\u001b[0m \u001b[0mException\u001b[0m\u001b[0;34m:\u001b[0m\u001b[0;34m\u001b[0m\u001b[0;34m\u001b[0m\u001b[0m\n",
            "\u001b[0;32m/usr/local/lib/python3.6/dist-packages/jupyter_client/session.py\u001b[0m in \u001b[0;36mrecv\u001b[0;34m(self, socket, mode, content, copy)\u001b[0m\n\u001b[1;32m    802\u001b[0m         \u001b[0;32mtry\u001b[0m\u001b[0;34m:\u001b[0m\u001b[0;34m\u001b[0m\u001b[0;34m\u001b[0m\u001b[0m\n\u001b[0;32m--> 803\u001b[0;31m             \u001b[0mmsg_list\u001b[0m \u001b[0;34m=\u001b[0m \u001b[0msocket\u001b[0m\u001b[0;34m.\u001b[0m\u001b[0mrecv_multipart\u001b[0m\u001b[0;34m(\u001b[0m\u001b[0mmode\u001b[0m\u001b[0;34m,\u001b[0m \u001b[0mcopy\u001b[0m\u001b[0;34m=\u001b[0m\u001b[0mcopy\u001b[0m\u001b[0;34m)\u001b[0m\u001b[0;34m\u001b[0m\u001b[0;34m\u001b[0m\u001b[0m\n\u001b[0m\u001b[1;32m    804\u001b[0m         \u001b[0;32mexcept\u001b[0m \u001b[0mzmq\u001b[0m\u001b[0;34m.\u001b[0m\u001b[0mZMQError\u001b[0m \u001b[0;32mas\u001b[0m \u001b[0me\u001b[0m\u001b[0;34m:\u001b[0m\u001b[0;34m\u001b[0m\u001b[0;34m\u001b[0m\u001b[0m\n",
            "\u001b[0;32m/usr/local/lib/python3.6/dist-packages/zmq/sugar/socket.py\u001b[0m in \u001b[0;36mrecv_multipart\u001b[0;34m(self, flags, copy, track)\u001b[0m\n\u001b[1;32m    474\u001b[0m         \"\"\"\n\u001b[0;32m--> 475\u001b[0;31m         \u001b[0mparts\u001b[0m \u001b[0;34m=\u001b[0m \u001b[0;34m[\u001b[0m\u001b[0mself\u001b[0m\u001b[0;34m.\u001b[0m\u001b[0mrecv\u001b[0m\u001b[0;34m(\u001b[0m\u001b[0mflags\u001b[0m\u001b[0;34m,\u001b[0m \u001b[0mcopy\u001b[0m\u001b[0;34m=\u001b[0m\u001b[0mcopy\u001b[0m\u001b[0;34m,\u001b[0m \u001b[0mtrack\u001b[0m\u001b[0;34m=\u001b[0m\u001b[0mtrack\u001b[0m\u001b[0;34m)\u001b[0m\u001b[0;34m]\u001b[0m\u001b[0;34m\u001b[0m\u001b[0;34m\u001b[0m\u001b[0m\n\u001b[0m\u001b[1;32m    476\u001b[0m         \u001b[0;31m# have first part already, only loop while more to receive\u001b[0m\u001b[0;34m\u001b[0m\u001b[0;34m\u001b[0m\u001b[0;34m\u001b[0m\u001b[0m\n",
            "\u001b[0;32mzmq/backend/cython/socket.pyx\u001b[0m in \u001b[0;36mzmq.backend.cython.socket.Socket.recv\u001b[0;34m()\u001b[0m\n",
            "\u001b[0;32mzmq/backend/cython/socket.pyx\u001b[0m in \u001b[0;36mzmq.backend.cython.socket.Socket.recv\u001b[0;34m()\u001b[0m\n",
            "\u001b[0;32mzmq/backend/cython/socket.pyx\u001b[0m in \u001b[0;36mzmq.backend.cython.socket._recv_copy\u001b[0;34m()\u001b[0m\n",
            "\u001b[0;32m/usr/local/lib/python3.6/dist-packages/zmq/backend/cython/checkrc.pxd\u001b[0m in \u001b[0;36mzmq.backend.cython.checkrc._check_rc\u001b[0;34m()\u001b[0m\n",
            "\u001b[0;31mKeyboardInterrupt\u001b[0m: ",
            "\nDuring handling of the above exception, another exception occurred:\n",
            "\u001b[0;31mKeyboardInterrupt\u001b[0m                         Traceback (most recent call last)",
            "\u001b[0;32m<ipython-input-52-51076e9b4cab>\u001b[0m in \u001b[0;36m<module>\u001b[0;34m()\u001b[0m\n\u001b[0;32m----> 1\u001b[0;31m \u001b[0mplay_game\u001b[0m\u001b[0;34m(\u001b[0m\u001b[0;34m)\u001b[0m\u001b[0;34m\u001b[0m\u001b[0;34m\u001b[0m\u001b[0m\n\u001b[0m",
            "\u001b[0;32m<ipython-input-51-c80dabcf1e46>\u001b[0m in \u001b[0;36mplay_game\u001b[0;34m()\u001b[0m\n\u001b[1;32m     14\u001b[0m \u001b[0;34m\u001b[0m\u001b[0m\n\u001b[1;32m     15\u001b[0m     \u001b[0;31m# Handle a single turn of an arbitrary player (Will be defined in 2.1)\u001b[0m\u001b[0;34m\u001b[0m\u001b[0;34m\u001b[0m\u001b[0;34m\u001b[0m\u001b[0m\n\u001b[0;32m---> 16\u001b[0;31m     \u001b[0mhandle_turn\u001b[0m\u001b[0;34m(\u001b[0m\u001b[0mcurrent_player\u001b[0m\u001b[0;34m)\u001b[0m\u001b[0;34m\u001b[0m\u001b[0;34m\u001b[0m\u001b[0m\n\u001b[0m\u001b[1;32m     17\u001b[0m \u001b[0;34m\u001b[0m\u001b[0m\n\u001b[1;32m     18\u001b[0m     \u001b[0;31m# Check if the game has ended (Will be defined in 2.2)\u001b[0m\u001b[0;34m\u001b[0m\u001b[0;34m\u001b[0m\u001b[0;34m\u001b[0m\u001b[0m\n",
            "\u001b[0;32m<ipython-input-35-84e5cbc885a0>\u001b[0m in \u001b[0;36mhandle_turn\u001b[0;34m(player)\u001b[0m\n\u001b[1;32m     12\u001b[0m     \u001b[0;31m# This loop asks the player to go again if the input is not a number between 1-9\u001b[0m\u001b[0;34m\u001b[0m\u001b[0;34m\u001b[0m\u001b[0;34m\u001b[0m\u001b[0m\n\u001b[1;32m     13\u001b[0m     \u001b[0;32mwhile\u001b[0m \u001b[0mposition\u001b[0m \u001b[0;32mnot\u001b[0m \u001b[0;32min\u001b[0m\u001b[0;34m(\u001b[0m\u001b[0mrange\u001b[0m\u001b[0;34m(\u001b[0m\u001b[0;36m10\u001b[0m\u001b[0;34m)\u001b[0m\u001b[0;34m)\u001b[0m\u001b[0;34m:\u001b[0m\u001b[0;34m\u001b[0m\u001b[0;34m\u001b[0m\u001b[0m\n\u001b[0;32m---> 14\u001b[0;31m       \u001b[0mposition\u001b[0m \u001b[0;34m=\u001b[0m \u001b[0minput\u001b[0m\u001b[0;34m(\u001b[0m\u001b[0;34m\"Invalid input. Choose a position from 1-9\"\u001b[0m\u001b[0;34m)\u001b[0m\u001b[0;34m\u001b[0m\u001b[0;34m\u001b[0m\u001b[0m\n\u001b[0m\u001b[1;32m     15\u001b[0m \u001b[0;34m\u001b[0m\u001b[0m\n\u001b[1;32m     16\u001b[0m     \u001b[0;31m# When we get a correct input, we assign it to the argument position\u001b[0m\u001b[0;34m\u001b[0m\u001b[0;34m\u001b[0m\u001b[0;34m\u001b[0m\u001b[0m\n",
            "\u001b[0;32m/usr/local/lib/python3.6/dist-packages/ipykernel/kernelbase.py\u001b[0m in \u001b[0;36mraw_input\u001b[0;34m(self, prompt)\u001b[0m\n\u001b[1;32m    702\u001b[0m             \u001b[0mself\u001b[0m\u001b[0;34m.\u001b[0m\u001b[0m_parent_ident\u001b[0m\u001b[0;34m,\u001b[0m\u001b[0;34m\u001b[0m\u001b[0;34m\u001b[0m\u001b[0m\n\u001b[1;32m    703\u001b[0m             \u001b[0mself\u001b[0m\u001b[0;34m.\u001b[0m\u001b[0m_parent_header\u001b[0m\u001b[0;34m,\u001b[0m\u001b[0;34m\u001b[0m\u001b[0;34m\u001b[0m\u001b[0m\n\u001b[0;32m--> 704\u001b[0;31m             \u001b[0mpassword\u001b[0m\u001b[0;34m=\u001b[0m\u001b[0;32mFalse\u001b[0m\u001b[0;34m,\u001b[0m\u001b[0;34m\u001b[0m\u001b[0;34m\u001b[0m\u001b[0m\n\u001b[0m\u001b[1;32m    705\u001b[0m         )\n\u001b[1;32m    706\u001b[0m \u001b[0;34m\u001b[0m\u001b[0m\n",
            "\u001b[0;32m/usr/local/lib/python3.6/dist-packages/ipykernel/kernelbase.py\u001b[0m in \u001b[0;36m_input_request\u001b[0;34m(self, prompt, ident, parent, password)\u001b[0m\n\u001b[1;32m    732\u001b[0m             \u001b[0;32mexcept\u001b[0m \u001b[0mKeyboardInterrupt\u001b[0m\u001b[0;34m:\u001b[0m\u001b[0;34m\u001b[0m\u001b[0;34m\u001b[0m\u001b[0m\n\u001b[1;32m    733\u001b[0m                 \u001b[0;31m# re-raise KeyboardInterrupt, to truncate traceback\u001b[0m\u001b[0;34m\u001b[0m\u001b[0;34m\u001b[0m\u001b[0;34m\u001b[0m\u001b[0m\n\u001b[0;32m--> 734\u001b[0;31m                 \u001b[0;32mraise\u001b[0m \u001b[0mKeyboardInterrupt\u001b[0m\u001b[0;34m\u001b[0m\u001b[0;34m\u001b[0m\u001b[0m\n\u001b[0m\u001b[1;32m    735\u001b[0m             \u001b[0;32melse\u001b[0m\u001b[0;34m:\u001b[0m\u001b[0;34m\u001b[0m\u001b[0;34m\u001b[0m\u001b[0m\n\u001b[1;32m    736\u001b[0m                 \u001b[0;32mbreak\u001b[0m\u001b[0;34m\u001b[0m\u001b[0;34m\u001b[0m\u001b[0m\n",
            "\u001b[0;31mKeyboardInterrupt\u001b[0m: "
          ]
        }
      ]
    },
    {
      "cell_type": "code",
      "metadata": {
        "id": "toiT2FR6V3_0",
        "colab_type": "code",
        "colab": {}
      },
      "source": [
        ""
      ],
      "execution_count": 0,
      "outputs": []
    }
  ]
}