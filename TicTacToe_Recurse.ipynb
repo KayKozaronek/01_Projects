{
  "nbformat": 4,
  "nbformat_minor": 0,
  "metadata": {
    "colab": {
      "name": "TicTacToe_Recurse.ipynb",
      "provenance": [],
      "authorship_tag": "ABX9TyODZAVAlR312xJg+7AWzFSA",
      "include_colab_link": true
    },
    "kernelspec": {
      "name": "python3",
      "display_name": "Python 3"
    }
  },
  "cells": [
    {
      "cell_type": "markdown",
      "metadata": {
        "id": "view-in-github",
        "colab_type": "text"
      },
      "source": [
        "<a href=\"https://colab.research.google.com/github/KayKozaronek/01_Projects/blob/master/TicTacToe_Recurse.ipynb\" target=\"_parent\"><img src=\"https://colab.research.google.com/assets/colab-badge.svg\" alt=\"Open In Colab\"/></a>"
      ]
    },
    {
      "cell_type": "markdown",
      "metadata": {
        "id": "dOcHzSy38TPM",
        "colab_type": "text"
      },
      "source": [
        "#Tic Tac Toe\n",
        "- This is an implementation of the game classic Tic Tac Toe. \n",
        "- There will be explanations as to what is done and to what purpose. \n",
        "- This document was originally created as an application for the `RecurseCenter` in NYC"
      ]
    },
    {
      "cell_type": "markdown",
      "metadata": {
        "id": "13_9WJvT7sW1",
        "colab_type": "text"
      },
      "source": [
        "# 1. Global Variables\n",
        "\n",
        "Let's first settle on some global variables that we are going to use throughout the entire code.\n",
        "\n",
        "We need a:\n",
        "- Playing board\n",
        "- Current player \n",
        "- Winner \n",
        "- Current Game status (Ended or ongoing?)"
      ]
    },
    {
      "cell_type": "code",
      "metadata": {
        "id": "xZblvrdLrnTQ",
        "colab_type": "code",
        "colab": {}
      },
      "source": [
        "# We use a Python List with 9 values. An empty board position will be displayed as a \"-\"\n",
        "\n",
        "board = [\"-\", \"-\", \"-\",\n",
        "         \"-\", \"-\", \"-\",\n",
        "         \"-\", \"-\", \"-\"]\n",
        "\n",
        "# This variable lets us know whether the game is still going\n",
        "game_still_going = True\n",
        "\n",
        "# This variable lets us know whether there is a winner or not\n",
        "winner = None \n",
        "\n",
        "# This tells us who's turn it is?\n",
        "current_player = \"X\""
      ],
      "execution_count": 0,
      "outputs": []
    },
    {
      "cell_type": "markdown",
      "metadata": {
        "id": "sT4yxUw19gPC",
        "colab_type": "text"
      },
      "source": [
        "# 2.Define the Playing function\n",
        "\n",
        "- In this part we want to start implementing the logic and the rules behind TicTacToe. \n",
        "- The `play_game()` function will allow us to play the game without any unpleasant interruptions and Errors. "
      ]
    },
    {
      "cell_type": "code",
      "metadata": {
        "id": "yOUFBZ9soxgl",
        "colab_type": "code",
        "colab": {
          "base_uri": "https://localhost:8080/",
          "height": 134
        },
        "outputId": "224ef6aa-ab6c-4b8c-972b-3117a8904f46"
      },
      "source": [
        "# Here we define the function that we will use to display our board\n",
        "def display_board():\n",
        "    print(\"\\n\")\n",
        "    print(board[0] + \" | \" + board[1] + \" | \" + board[2]+\"        1 | 2 | 3\")\n",
        "    print(board[3] + \" | \" + board[4] + \" | \" + board[5]+\"        4 | 5 | 6\")\n",
        "    print(board[6] + \" | \" + board[7] + \" | \" + board[8]+\"        7 | 8 | 9\")\n",
        "    print(\"\\n\")\n",
        "\n",
        "# Let's see how our empy board looks like \n",
        "display_board()"
      ],
      "execution_count": 2,
      "outputs": [
        {
          "output_type": "stream",
          "text": [
            "\n",
            "\n",
            "- | - | -        1 | 2 | 3\n",
            "- | - | -        4 | 5 | 6\n",
            "- | - | -        7 | 8 | 9\n",
            "\n",
            "\n"
          ],
          "name": "stdout"
        }
      ]
    },
    {
      "cell_type": "code",
      "metadata": {
        "id": "aZoHjGVAs3mv",
        "colab_type": "code",
        "colab": {}
      },
      "source": [
        "def play_game():\n",
        "\n",
        "  # Display initial board\n",
        "  display_board()\n",
        "\n",
        "  # While the game is still going (Which we set to true by default in Section 1)\n",
        "  while game_still_going:\n",
        "    \n",
        "    # Handle a single turn of an arbitrary player (Will be defined in 2.1)\n",
        "    handle_turn(current_player)\n",
        "\n",
        "    # Check if the game has ended (Will be defined in 2.2)\n",
        "    check_if_game_over()\n",
        "  \t\n",
        "    # Change to the other player (Will be defined in 2.3)\n",
        "    flip_player()\n",
        "\n",
        "  # When the game is over we check for a winner.\n",
        "  if winner == \"X\" or winner ==\"O\":\n",
        "    print(f\" {winner} won.\")\n",
        "    \n",
        "  elif winner == None:\n",
        "    print(\"It's a tie.\")\n",
        "\n",
        "  clear_board()\n",
        "\n",
        "  play_again()"
      ],
      "execution_count": 0,
      "outputs": []
    },
    {
      "cell_type": "markdown",
      "metadata": {
        "id": "9HP4FP3IAt5j",
        "colab_type": "text"
      },
      "source": [
        "## 2.1 Implementing `handle_turn`\n",
        "In this part we will define the function that takes care of a players turn.\n",
        "We will take care of the following:\n",
        "- Print whose Players turn it is \n",
        "- Give the Player the option to input a position\n",
        "- Check if the Input is Valid \n",
        "  - Check if it is a number in the range of 1-9\n",
        "  - Check if the position on the board is already occupied or free \n",
        "\n"
      ]
    },
    {
      "cell_type": "code",
      "metadata": {
        "id": "YT3IN5oCyCQX",
        "colab_type": "code",
        "colab": {}
      },
      "source": [
        "def handle_turn(player):\n",
        "\n",
        "  print(f\"\\n It's {player} 's turn. \\n\")\n",
        "  position = input(\"Choose a position from 1-9: \")\n",
        " \n",
        "  # We assume that the input is invalid, before we actually check it \n",
        "  valid = False\n",
        "\n",
        "  # Here we check it\n",
        "  while not valid:\n",
        "\n",
        "    # This loop asks the player to go again if the input is not a number between 1-9 \n",
        "    while position not in [\"1\", \"2\", \"3\", \"4\", \"5\", \"6\", \"7\", \"8\", \"9\"]:\n",
        "      position = input(\"Invalid input. Choose a position from 1-9\")\n",
        "\n",
        "    # When we get a correct input, we assign it to the argument position\n",
        "    position = int(position) -1\n",
        "\n",
        "    # Here we check for if the position is still empty. If not we ask the player to go again.\n",
        "    if board[position] == \"-\":\n",
        "      valid = True\n",
        "    else:\n",
        "      print(\"\\n You can't go there. Try another position!\")\n",
        "    \n",
        "  # Assign \"X\" or \"O\" to the board and display it\n",
        "  board[position] = player\n",
        "  display_board()"
      ],
      "execution_count": 0,
      "outputs": []
    },
    {
      "cell_type": "markdown",
      "metadata": {
        "id": "UdDMQqCGEZ6w",
        "colab_type": "text"
      },
      "source": [
        "## 2.2 Implementing `check_if_game_over`\n",
        "In this part we will check whether the game is already finished.\n",
        "This can happen in the following cases:\n",
        "- We have a winner / The board is not full\n",
        "- We have a tie / We have no winner & the board is full \n"
      ]
    },
    {
      "cell_type": "code",
      "metadata": {
        "id": "4iCPYeH5Gp8Z",
        "colab_type": "code",
        "colab": {}
      },
      "source": [
        "def check_if_game_over():\n",
        "  check_for_winner()\n",
        "  check_if_tie()"
      ],
      "execution_count": 0,
      "outputs": []
    },
    {
      "cell_type": "markdown",
      "metadata": {
        "id": "8saA30G_GsnT",
        "colab_type": "text"
      },
      "source": [
        "### 2.2.1 Implementing `check_for_winner()`\n",
        "We need to define the subfunction of `check_if_game_over():`\n",
        "Here we will have to implement 3 cases for a winner:\n",
        "1. Winning through 3 of a kind in a row\n",
        "2. Winning through 3 of a kind in a column\n",
        "3. Winning through 3 of a kind in a diagonal"
      ]
    },
    {
      "cell_type": "code",
      "metadata": {
        "id": "2grZVSHkHuA5",
        "colab_type": "code",
        "colab": {}
      },
      "source": [
        "def check_for_winner():\n",
        "\n",
        "  # Set up global variables\n",
        "  global winner\n",
        "\n",
        "  row_winner = check_rows() # Check rows\n",
        "   \n",
        "  column_winner = check_columns() # Check columns\n",
        "  \n",
        "  diagonal_winner = check_diagonals() # Check diagonals\n",
        "\n",
        "  if row_winner:\n",
        "    winner = row_winner # theres a win\n",
        "  elif column_winner: \n",
        "    winner = column_winner # theres a win\n",
        "  elif diagonal_winner:\n",
        "    winner = diagonal_winner # theres a win\n",
        "  else: \n",
        "    winner = None  # There was no win\n",
        "  "
      ],
      "execution_count": 0,
      "outputs": []
    },
    {
      "cell_type": "markdown",
      "metadata": {
        "id": "WSwZEShRHz-4",
        "colab_type": "text"
      },
      "source": [
        "#### 2.2.1.1 Implementing `check_rows()`"
      ]
    },
    {
      "cell_type": "code",
      "metadata": {
        "id": "S6Ze6Z8qH-93",
        "colab_type": "code",
        "colab": {}
      },
      "source": [
        "def check_rows():\n",
        "  # Set up global variables \n",
        "  global game_still_going # Is true, as defined in Part 1.\n",
        "\n",
        "  # Check if any of the rows have all the same value (Only \"X\" or \"O\", not \"-\")\n",
        "  row_1 = board[0] == board[1] == board[2] != \"-\"\n",
        "  row_2 = board[3] == board[4] == board[5] != \"-\"\n",
        "  row_3 = board[6] == board[7] == board[8] != \"-\"\n",
        "  \n",
        "  # If any row has a match, flag that there is a win and the game has ended\n",
        "  if row_1 or row_2 or row_3:\n",
        "    game_still_going = False\n",
        "  \n",
        "  # Return the winner \n",
        "  if row_1:\n",
        "    return board[0]\n",
        "  elif row_2:\n",
        "    return board[3]\n",
        "  elif row_3:\n",
        "    return board[6]\n",
        "  else:\n",
        "    return None"
      ],
      "execution_count": 0,
      "outputs": []
    },
    {
      "cell_type": "markdown",
      "metadata": {
        "id": "ktPvsADiIiZR",
        "colab_type": "text"
      },
      "source": [
        "#### 2.2.1.2 Implementing `check_columns()`"
      ]
    },
    {
      "cell_type": "code",
      "metadata": {
        "id": "9x1S2f11IDIh",
        "colab_type": "code",
        "colab": {}
      },
      "source": [
        "def check_columns():\n",
        "  # Set up global variables \n",
        "  global game_still_going\n",
        "\n",
        "  # Check if any of the rows have all the same value \n",
        "  column_1 = board[0] == board[3] == board[6] != \"-\"\n",
        "  column_2 = board[1] == board[4] == board[7] != \"-\"\n",
        "  column_3 = board[2] == board[5] == board[8] != \"-\"\n",
        "  \n",
        "  # If any row has a match, flag that there is a win\n",
        "  if column_1 or column_2 or column_3:\n",
        "    game_still_going = False\n",
        "  # Return the winner \n",
        "  if column_1:\n",
        "    return board[0]\n",
        "  elif column_2:\n",
        "    return board[1]\n",
        "  elif column_3:\n",
        "    return board[2]\n",
        "  else:\n",
        "    return None"
      ],
      "execution_count": 0,
      "outputs": []
    },
    {
      "cell_type": "markdown",
      "metadata": {
        "id": "I4z2bs8MIq63",
        "colab_type": "text"
      },
      "source": [
        "#### 2.2.2.3 Implementing `check_diagonals()`"
      ]
    },
    {
      "cell_type": "code",
      "metadata": {
        "id": "hD1fK3_jIHaO",
        "colab_type": "code",
        "colab": {}
      },
      "source": [
        "def check_diagonals():\n",
        "  # Set up global variables \n",
        "  global game_still_going\n",
        "\n",
        "  # Check if any of the diagonals have all the same value \n",
        "  diagonal_1 = board[0] == board[4] == board[8] != \"-\"\n",
        "  diagonal_2 = board[2] == board[4] == board[6] != \"-\"\n",
        "  \n",
        "  # If any row has a match, flag that there is a win\n",
        "  if diagonal_1 or diagonal_2:\n",
        "    game_still_going = False\n",
        "  # Return the winner \n",
        "  if diagonal_1:\n",
        "    return board[0]\n",
        "  elif diagonal_2:\n",
        "    return board[2]\n",
        "  else:\n",
        "    return None"
      ],
      "execution_count": 0,
      "outputs": []
    },
    {
      "cell_type": "markdown",
      "metadata": {
        "id": "dwXK-FI_IO-9",
        "colab_type": "text"
      },
      "source": [
        "### 2.2.2 Implementing `check_if_tie()`\n",
        "\n",
        "After checking all the possibilities for a winner, it might still be the case, that we don't have one.\n",
        "In this case, we need to check if there's a tie. "
      ]
    },
    {
      "cell_type": "code",
      "metadata": {
        "id": "VN6opHqL_kXm",
        "colab_type": "code",
        "colab": {}
      },
      "source": [
        "def check_if_tie():\n",
        "  global game_still_going\n",
        "\n",
        "  # If there's no empty space on our board, we can infer that the game is over\n",
        "  if \"-\" not in board:\n",
        "    game_still_going = False\n",
        "    return True \n",
        "  else:\n",
        "    return False"
      ],
      "execution_count": 0,
      "outputs": []
    },
    {
      "cell_type": "markdown",
      "metadata": {
        "id": "fa06q__WIXwF",
        "colab_type": "text"
      },
      "source": [
        "## 2.3 Implement `flip_player()`\n",
        "\n",
        "Now we want to implement the funcionality that will automatically change the player, after a move has been made."
      ]
    },
    {
      "cell_type": "code",
      "metadata": {
        "id": "umBW7pSy_yQs",
        "colab_type": "code",
        "colab": {}
      },
      "source": [
        "def flip_player():\n",
        "  # Global variable we need \n",
        "  global current_player\n",
        "\n",
        "  # If the current player is \"X\", then change to \"O\"\n",
        "  if current_player == \"X\":\n",
        "    current_player = \"O\"\n",
        "  \n",
        "  # If the current player is \"O\", then change to \"X\"\n",
        "  elif current_player == \"O\":\n",
        "    current_player =\"X\"  "
      ],
      "execution_count": 0,
      "outputs": []
    },
    {
      "cell_type": "markdown",
      "metadata": {
        "id": "_xgXmqV1yEk7",
        "colab_type": "text"
      },
      "source": [
        "##2.4 Implement `play_again()`\n",
        "After a game we want to ask our players whether they want to continue playing or not. "
      ]
    },
    {
      "cell_type": "code",
      "metadata": {
        "id": "1liFoOLwyPMs",
        "colab_type": "code",
        "colab": {}
      },
      "source": [
        "def play_again():\n",
        "  global game_still_going\n",
        "  \n",
        "  inp = input(f\"\\n Do you want to play again? (y/n)\")\n",
        "  \n",
        "  while inp not in [\"y\", \"n\"]:\n",
        "    inp = input(\" \\n Incorrect Input, try typing 'y' for Yes and 'n' for No.\")\n",
        "  \n",
        "  if inp in [\"y\"]:\n",
        "    print(\"\\n Ok, let's go again! \\n \")\n",
        "    game_still_going = True\n",
        "    #board = empty_board\n",
        "    play_game()\n",
        "    \n",
        "  elif inp in [\"n\"]:\n",
        "    print(\"\\n Thank's for playing. Have a great day!\")"
      ],
      "execution_count": 0,
      "outputs": []
    },
    {
      "cell_type": "markdown",
      "metadata": {
        "id": "qs4KllSJ0J1I",
        "colab_type": "text"
      },
      "source": [
        "## 2.5 Implement `clear_board()`\n",
        "\n",
        "After each game, we want to start playing with a fresh board, that's why we need a function to automatically do that."
      ]
    },
    {
      "cell_type": "code",
      "metadata": {
        "id": "9ERiLKUk0ZXx",
        "colab_type": "code",
        "colab": {}
      },
      "source": [
        "def clear_board():\n",
        "  global board\n",
        "  board = [\"-\", \"-\", \"-\",\n",
        "          \"-\", \"-\", \"-\",\n",
        "          \"-\", \"-\", \"-\"]"
      ],
      "execution_count": 0,
      "outputs": []
    },
    {
      "cell_type": "markdown",
      "metadata": {
        "id": "IyEtXjCE_110",
        "colab_type": "text"
      },
      "source": [
        "# 3. Playing the Game "
      ]
    },
    {
      "cell_type": "code",
      "metadata": {
        "id": "ZsyWHwHCI6Tf",
        "colab_type": "code",
        "colab": {
          "base_uri": "https://localhost:8080/",
          "height": 487
        },
        "outputId": "152fc70b-210c-425d-cfd2-37ad15e42c4b"
      },
      "source": [
        "play_game()"
      ],
      "execution_count": 17,
      "outputs": [
        {
          "output_type": "stream",
          "text": [
            "\n",
            "\n",
            "X | O | -        1 | 2 | 3\n",
            "X | - | O        4 | 5 | 6\n",
            "X | - | -        7 | 8 | 9\n",
            "\n",
            "\n",
            "\n",
            " It's O 's turn. \n",
            "\n",
            "Choose a position from 1-9: 1\n",
            "\n",
            " You can't go there. Try another position!\n",
            "Invalid input. Choose a position from 1-99\n",
            "\n",
            "\n",
            "X | O | -        1 | 2 | 3\n",
            "X | - | O        4 | 5 | 6\n",
            "X | - | O        7 | 8 | 9\n",
            "\n",
            "\n",
            " X won.\n",
            "\n",
            " Do you want to play again? (y/n)8\n",
            " \n",
            " Incorrect Input, try typing 'y' for Yes and 'n' for No.n\n",
            "\n",
            " Thank's for playing. Have a great day!\n"
          ],
          "name": "stdout"
        }
      ]
    },
    {
      "cell_type": "code",
      "metadata": {
        "id": "toiT2FR6V3_0",
        "colab_type": "code",
        "colab": {
          "base_uri": "https://localhost:8080/",
          "height": 1000
        },
        "outputId": "9de8c3cd-3727-4cd4-c234-10b17dd209ca"
      },
      "source": [
        "play_game()"
      ],
      "execution_count": 18,
      "outputs": [
        {
          "output_type": "stream",
          "text": [
            "\n",
            "\n",
            "- | - | -        1 | 2 | 3\n",
            "- | - | -        4 | 5 | 6\n",
            "- | - | -        7 | 8 | 9\n",
            "\n",
            "\n",
            " X won.\n",
            "\n",
            " Do you want to play again? (y/n)1\n",
            " \n",
            " Incorrect Input, try typing 'y' for Yes and 'n' for No.2\n",
            " \n",
            " Incorrect Input, try typing 'y' for Yes and 'n' for No.3\n",
            " \n",
            " Incorrect Input, try typing 'y' for Yes and 'n' for No.y\n",
            "\n",
            " Ok, let's go again! \n",
            " \n",
            "\n",
            "\n",
            "- | - | -        1 | 2 | 3\n",
            "- | - | -        4 | 5 | 6\n",
            "- | - | -        7 | 8 | 9\n",
            "\n",
            "\n",
            "\n",
            " It's X 's turn. \n",
            "\n",
            "Choose a position from 1-9: x\n",
            "Invalid input. Choose a position from 1-91\n",
            "\n",
            "\n",
            "X | - | -        1 | 2 | 3\n",
            "- | - | -        4 | 5 | 6\n",
            "- | - | -        7 | 8 | 9\n",
            "\n",
            "\n",
            "\n",
            " It's O 's turn. \n",
            "\n",
            "Choose a position from 1-9: 2\n",
            "\n",
            "\n",
            "X | O | -        1 | 2 | 3\n",
            "- | - | -        4 | 5 | 6\n",
            "- | - | -        7 | 8 | 9\n",
            "\n",
            "\n",
            "\n",
            " It's X 's turn. \n",
            "\n",
            "Choose a position from 1-9: 3\n",
            "\n",
            "\n",
            "X | O | X        1 | 2 | 3\n",
            "- | - | -        4 | 5 | 6\n",
            "- | - | -        7 | 8 | 9\n",
            "\n",
            "\n",
            "\n",
            " It's O 's turn. \n",
            "\n",
            "Choose a position from 1-9: 4\n",
            "\n",
            "\n",
            "X | O | X        1 | 2 | 3\n",
            "O | - | -        4 | 5 | 6\n",
            "- | - | -        7 | 8 | 9\n",
            "\n",
            "\n",
            "\n",
            " It's X 's turn. \n",
            "\n",
            "Choose a position from 1-9: 5\n",
            "\n",
            "\n",
            "X | O | X        1 | 2 | 3\n",
            "O | X | -        4 | 5 | 6\n",
            "- | - | -        7 | 8 | 9\n",
            "\n",
            "\n",
            "\n",
            " It's O 's turn. \n",
            "\n",
            "Choose a position from 1-9: 6\n",
            "\n",
            "\n",
            "X | O | X        1 | 2 | 3\n",
            "O | X | O        4 | 5 | 6\n",
            "- | - | -        7 | 8 | 9\n",
            "\n",
            "\n",
            "\n",
            " It's X 's turn. \n",
            "\n",
            "Choose a position from 1-9: 7\n",
            "\n",
            "\n",
            "X | O | X        1 | 2 | 3\n",
            "O | X | O        4 | 5 | 6\n",
            "X | - | -        7 | 8 | 9\n",
            "\n",
            "\n",
            " X won.\n",
            "\n",
            " Do you want to play again? (y/n)y\n",
            "\n",
            " Ok, let's go again! \n",
            " \n",
            "\n",
            "\n",
            "- | - | -        1 | 2 | 3\n",
            "- | - | -        4 | 5 | 6\n",
            "- | - | -        7 | 8 | 9\n",
            "\n",
            "\n",
            "\n",
            " It's O 's turn. \n",
            "\n",
            "Choose a position from 1-9: 0\n",
            "Invalid input. Choose a position from 1-99\n",
            "\n",
            "\n",
            "- | - | -        1 | 2 | 3\n",
            "- | - | -        4 | 5 | 6\n",
            "- | - | O        7 | 8 | 9\n",
            "\n",
            "\n",
            "\n",
            " It's X 's turn. \n",
            "\n",
            "Choose a position from 1-9: 8\n",
            "\n",
            "\n",
            "- | - | -        1 | 2 | 3\n",
            "- | - | -        4 | 5 | 6\n",
            "- | X | O        7 | 8 | 9\n",
            "\n",
            "\n",
            "\n",
            " It's O 's turn. \n",
            "\n",
            "Choose a position from 1-9: 6\n",
            "\n",
            "\n",
            "- | - | -        1 | 2 | 3\n",
            "- | - | O        4 | 5 | 6\n",
            "- | X | O        7 | 8 | 9\n",
            "\n",
            "\n",
            "\n",
            " It's X 's turn. \n",
            "\n",
            "Choose a position from 1-9: 5\n",
            "\n",
            "\n",
            "- | - | -        1 | 2 | 3\n",
            "- | X | O        4 | 5 | 6\n",
            "- | X | O        7 | 8 | 9\n",
            "\n",
            "\n",
            "\n",
            " It's O 's turn. \n",
            "\n",
            "Choose a position from 1-9: 3\n",
            "\n",
            "\n",
            "- | - | O        1 | 2 | 3\n",
            "- | X | O        4 | 5 | 6\n",
            "- | X | O        7 | 8 | 9\n",
            "\n",
            "\n",
            " O won.\n",
            "\n",
            " Do you want to play again? (y/n)n\n",
            "\n",
            " Thank's for playing. Have a great day!\n"
          ],
          "name": "stdout"
        }
      ]
    },
    {
      "cell_type": "code",
      "metadata": {
        "id": "YcNVqMNy04Ni",
        "colab_type": "code",
        "colab": {}
      },
      "source": [
        ""
      ],
      "execution_count": 0,
      "outputs": []
    }
  ]
}